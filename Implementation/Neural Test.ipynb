{
 "cells": [
  {
   "cell_type": "code",
   "execution_count": 1,
   "metadata": {},
   "outputs": [
    {
     "ename": "ModuleNotFoundError",
     "evalue": "No module named 'numpy'",
     "output_type": "error",
     "traceback": [
      "\u001b[0;31m---------------------------------------------------------------------------\u001b[0m",
      "\u001b[0;31mModuleNotFoundError\u001b[0m                       Traceback (most recent call last)",
      "\u001b[0;32m<ipython-input-1-0aa0b027fcb6>\u001b[0m in \u001b[0;36m<module>\u001b[0;34m()\u001b[0m\n\u001b[0;32m----> 1\u001b[0;31m \u001b[0;32mimport\u001b[0m \u001b[0mnumpy\u001b[0m \u001b[0;32mas\u001b[0m \u001b[0mnp\u001b[0m\u001b[0;34m\u001b[0m\u001b[0m\n\u001b[0m",
      "\u001b[0;31mModuleNotFoundError\u001b[0m: No module named 'numpy'"
     ]
    }
   ],
   "source": [
    "import numpy as np"
   ]
  },
  {
   "cell_type": "code",
   "execution_count": 6,
   "metadata": {},
   "outputs": [],
   "source": [
    "class ThreeLayerNeuralNet:\n",
    "    def __init__(self, x, y):\n",
    "        self.input = x\n",
    "        self.weight = np.array()\n",
    "        self.weight[0] = np.random.rand(self.input.shape[0], 4)\n",
    "        self.weight[1] = np.random.rand(self.weight[0].shape[1], 4)\n",
    "        self.weight[2] = np.random.rand(self.weight[1].shape[1], 1)\n",
    "        self.hidden = np.array()\n",
    "        self.output = np.zeros(y.shape)\n",
    "    \n",
    "    def sigmoid(self, x):\n",
    "        return (1 - np.exp(-(x * 2))) / (1 + np.exp(-(x * 2)))\n",
    "    \n",
    "    def sigmoid_(self, x):\n",
    "        return 1 - np.square(sigmoid(x))\n",
    "    \n",
    "    def feedforward(self):\n",
    "        self.hidden[0] = sigmoid(self.input.dot(self.weight[0]))\n",
    "        self.hidden[1] = sigmoid(self.hidden[0].dot(self.weight[1]))\n",
    "        self.output = sigmoid(self.hidden[1].dot(self.weight[2])\n",
    "        \n",
    "    def propagateback(self):\n",
    "        print('Not Supported Yet!')\n",
    "        \n",
    "    def output(self):\n",
    "        return self.output\n",
    "        "
   ]
  },
  {
   "cell_type": "code",
   "execution_count": 40,
   "metadata": {},
   "outputs": [
    {
     "data": {
      "text/plain": [
       "array([ 0.96692692,  0.92099278,  0.97642181,  0.87801485])"
      ]
     },
     "execution_count": 40,
     "metadata": {},
     "output_type": "execute_result"
    }
   ],
   "source": [
    "x = np.array([1, 0.9, 0.9])\n",
    "weight = list()\n",
    "weight.append(np.random.rand(x.shape[0], 4))\n",
    "weight.append(np.random.rand(weight[0].shape[1], 1))\n",
    "\n",
    "inputs = np.array([[0, 0] , [0, 1], [1, 0], [1, 1]])\n",
    "outputs = np.array([0, 1, 1, 0])\n",
    "\n",
    "def sigmoid(x):\n",
    "    return 1 / (1 + np.exp(-(2 * x)))\n",
    "\n",
    "sigmoid(x.dot(weight[0]))\n",
    "\n",
    "\n",
    "\n",
    "#https://medium.com/data-science-group-iitr/logistic-regression-simplified-9b4efe801389\n",
    "#https://stackoverflow.com/questions/3985619/how-to-calculate-a-logistic-sigmoid-function-in-python"
   ]
  },
  {
   "cell_type": "code",
   "execution_count": 34,
   "metadata": {},
   "outputs": [
    {
     "name": "stdout",
     "output_type": "stream",
     "text": [
      "2.54366564738e-13\n"
     ]
    }
   ],
   "source": []
  }
 ],
 "metadata": {
  "kernelspec": {
   "display_name": "Python 3",
   "language": "python",
   "name": "python3"
  },
  "language_info": {
   "codemirror_mode": {
    "name": "ipython",
    "version": 3
   },
   "file_extension": ".py",
   "mimetype": "text/x-python",
   "name": "python",
   "nbconvert_exporter": "python",
   "pygments_lexer": "ipython3",
   "version": "3.6.5"
  }
 },
 "nbformat": 4,
 "nbformat_minor": 2
}
