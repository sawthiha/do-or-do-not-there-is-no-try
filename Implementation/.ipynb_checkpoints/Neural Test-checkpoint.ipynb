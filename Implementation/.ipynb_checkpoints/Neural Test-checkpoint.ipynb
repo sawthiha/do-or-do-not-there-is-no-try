{
 "cells": [
  {
   "cell_type": "code",
   "execution_count": 4,
   "metadata": {},
   "outputs": [],
   "source": [
    "import numpy as np\n",
    "import random\n",
    "import matplotlib.pyplot as plot"
   ]
  },
  {
   "cell_type": "code",
   "execution_count": 2,
   "metadata": {},
   "outputs": [],
   "source": [
    "class NeuralNet:\n",
    "    def __init__(self, size_in, size_out):\n",
    "        self.input = np.zeros((size_in, 1), dtype=np.float64)\n",
    "        self.output = np.zeros((size_out, 1), dtype=np.float64)\n",
    "        self.weight = [None, None, None]\n",
    "        self.bias = [None, None, None]\n",
    "        self.layer = [None, None]\n",
    "        self.z = [None, None, None]\n",
    "        self.weight_ = [None, None, None]\n",
    "        self.bias_ = [None, None, None]\n",
    "        self.weight[0] = np.random.rand(6, size_in)\n",
    "        self.weight[1] = np.random.rand(6, 6)\n",
    "        self.weight[2] = np.random.rand(size_out, 6)\n",
    "        self.bias[0] = np.random.rand(6, 1)\n",
    "        self.bias[1] = np.random.rand(6, 1)\n",
    "        self.bias[2] = np.random.rand(size_out, 1)\n",
    "        self.layer[0] = np.zeros((6, 1), dtype=np.float64)\n",
    "        self.layer[1] = np.zeros((6, 1), dtype=np.float64)\n",
    "        self.z[0] = np.zeros((6, 1), dtype=np.float64)\n",
    "        self.z[1] = np.zeros((6, 1), dtype=np.float64)\n",
    "        self.z[2] = np.zeros((size_out, 1), dtype=np.float64)\n",
    "        self.weight_[0] = np.zeros((6, size_in), dtype=np.float64)\n",
    "        self.weight_[1] = np.zeros((6, 6), dtype=np.float64)\n",
    "        self.weight_[2] = np.zeros((size_out, 6), dtype=np.float64)\n",
    "        self.bias_[0] = np.zeros((6, 1), dtype=np.float64)\n",
    "        self.bias_[1] = np.zeros((6, 1), dtype=np.float64)\n",
    "        self.bias_[2] = np.zeros((size_out, 1), dtype=np.float64)\n",
    "    \n",
    "    def sigmoid(self, x):\n",
    "        return (1 - np.exp(-(x * 2))) / (1 + np.exp(-(x * 2)))\n",
    "    \n",
    "    def sigmoid_(self, x):\n",
    "        return 1 - np.square(self.sigmoid(x))   \n",
    "    \n",
    "    def cost(self, y):\n",
    "        return (self.output - y) ** 2\n",
    "    \n",
    "    def cost_(self, y):\n",
    "        return (self.output - y) * 2\n",
    "    \n",
    "    def feed(self, x):\n",
    "        self.input = x.T\n",
    "        self.z[0] = self.weight[0].dot(self.input) + self.bias[0]\n",
    "        self.layer[0] = self.sigmoid(self.z[0])\n",
    "        self.z[1] = self.weight[1].dot(self.layer[0]) + self.bias[1]\n",
    "        self.layer[1] = self.sigmoid(self.z[1])\n",
    "        self.z[2] = self.weight[2].dot(self.layer[1]) + self.bias[2]\n",
    "        self.output = self.sigmoid(self.z[2])\n",
    "        \n",
    "    def propagate(self, y):\n",
    "        i_ = self.sigmoid_(self.z[2]) * self.cost_(y)\n",
    "        self.weight_[2] = i_.dot(self.layer[1].T)\n",
    "        self.bias_[2] = i_\n",
    "        c_ = self.weight[2].T.dot(i_)\n",
    "        \n",
    "        i_ = self.sigmoid_(self.z[1]) * c_\n",
    "        self.weight_[1] = i_.dot(self.layer[0].T)\n",
    "        self.bias_[1] = i_\n",
    "        c_ = self.weight[1].T.dot(i_)\n",
    "        \n",
    "        i_ = self.sigmoid_(self.z[0]) * c_\n",
    "        self.weight_[0] = i_.dot(self.input.T)\n",
    "        self.bias_[0] = i_\n",
    "        \n",
    "        for i in range(0, 3, 1):\n",
    "            self.weight[i] -= 0.5 * self.weight_[i]\n",
    "            self.bias[i] -= 0.5 * self.bias_[i]\n",
    "        \n",
    "    def result(self):\n",
    "        return self.output"
   ]
  },
  {
   "cell_type": "code",
   "execution_count": 835,
   "metadata": {},
   "outputs": [
    {
     "name": "stdout",
     "output_type": "stream",
     "text": [
      "[[1 2 3]]\n"
     ]
    }
   ],
   "source": [
    "#https://medium.com/data-science-group-iitr/logistic-regression-simplified-9b4efe801389\n",
    "#https://stackoverflow.com/questions/3985619/how-to-calculate-a-logistic-sigmoid-function-in-python"
   ]
  },
  {
   "cell_type": "code",
   "execution_count": 10437,
   "metadata": {},
   "outputs": [],
   "source": [
    "net = NeuralNet(2,1)"
   ]
  },
  {
   "cell_type": "code",
   "execution_count": 10451,
   "metadata": {},
   "outputs": [
    {
     "name": "stdout",
     "output_type": "stream",
     "text": [
      "0\n",
      "[[ 0.24180768]]\n",
      "[[ 0.05847095]]\n",
      "1\n",
      "[[ 0.99337741]]\n",
      "[[  4.38586594e-05]]\n",
      "2\n",
      "[[ 0.99330427]]\n",
      "[[  4.48327375e-05]]\n",
      "3\n",
      "[[ 0.13075403]]\n",
      "[[ 0.01709662]]\n"
     ]
    },
    {
     "data": {
      "text/plain": [
       "array([[ 0.98108593]])"
      ]
     },
     "execution_count": 10451,
     "metadata": {},
     "output_type": "execute_result"
    }
   ],
   "source": [
    "sum = 0\n",
    "for i in range(0, 4):\n",
    "    print(i)\n",
    "    net.feed(train[i].T)\n",
    "    print(net.result())\n",
    "    print(net.cost(res[i]))\n",
    "    sum += net.cost(res[i])\n",
    "1 - sum / 4"
   ]
  },
  {
   "cell_type": "code",
   "execution_count": 10446,
   "metadata": {},
   "outputs": [],
   "source": [
    "i = 0\n",
    "train = (x0, x1, x2, x3)\n",
    "res = (y0, y1, y2, y3)\n",
    "while i < 10000:\n",
    "    d = random.randint(0,3)\n",
    "    net.feed(train[d].T)\n",
    "    net.propagate(res[d])\n",
    "    i += 1"
   ]
  },
  {
   "cell_type": "code",
   "execution_count": 4700,
   "metadata": {},
   "outputs": [],
   "source": [
    "weight0 = np.random.rand(3, 2)\n",
    "weight1 = np.random.rand(1, 3)\n",
    "bias0 = np.random.rand(3, 1)\n",
    "bias1 = np.random.rand(1, 1)"
   ]
  },
  {
   "cell_type": "code",
   "execution_count": 4701,
   "metadata": {},
   "outputs": [],
   "source": [
    "x0 = np.array([[0], [0]])\n",
    "x1 = np.array([[0], [1]])\n",
    "x2 = np.array([[1], [0]])\n",
    "x3 = np.array([[1], [1]])\n",
    "y0 = np.array([[0]])\n",
    "y1 = np.array([[1]])\n",
    "y2 = np.array([[1]])\n",
    "y3 = np.array([[0]])"
   ]
  },
  {
   "cell_type": "code",
   "execution_count": 4976,
   "metadata": {},
   "outputs": [
    {
     "data": {
      "text/plain": [
       "array([[ 0.60447362],\n",
       "       [ 1.21689977],\n",
       "       [ 0.33569375]])"
      ]
     },
     "execution_count": 4976,
     "metadata": {},
     "output_type": "execute_result"
    }
   ],
   "source": [
    "z0 = weight0.dot(x1) + bias0\n",
    "z0"
   ]
  },
  {
   "cell_type": "code",
   "execution_count": 4977,
   "metadata": {},
   "outputs": [
    {
     "data": {
      "text/plain": [
       "array([[ 0.54022525],\n",
       "       [ 0.83873728],\n",
       "       [ 0.32362755]])"
      ]
     },
     "execution_count": 4977,
     "metadata": {},
     "output_type": "execute_result"
    }
   ],
   "source": [
    "l0 = net.sigmoid(z0)\n",
    "l0"
   ]
  },
  {
   "cell_type": "code",
   "execution_count": 4978,
   "metadata": {},
   "outputs": [
    {
     "data": {
      "text/plain": [
       "array([[ 2.03346225]])"
      ]
     },
     "execution_count": 4978,
     "metadata": {},
     "output_type": "execute_result"
    }
   ],
   "source": [
    "z1 = weight1.dot(l0) + bias1\n",
    "z1"
   ]
  },
  {
   "cell_type": "code",
   "execution_count": 4979,
   "metadata": {},
   "outputs": [
    {
     "data": {
      "text/plain": [
       "array([[ 0.96631701]])"
      ]
     },
     "execution_count": 4979,
     "metadata": {},
     "output_type": "execute_result"
    }
   ],
   "source": [
    "output = net.sigmoid(z1)\n",
    "output"
   ]
  },
  {
   "cell_type": "code",
   "execution_count": 4980,
   "metadata": {},
   "outputs": [
    {
     "data": {
      "text/plain": [
       "array([[-0.06736599]])"
      ]
     },
     "execution_count": 4980,
     "metadata": {},
     "output_type": "execute_result"
    }
   ],
   "source": [
    "cost_ = 2 * (output - y1)\n",
    "cost_"
   ]
  },
  {
   "cell_type": "code",
   "execution_count": 4981,
   "metadata": {},
   "outputs": [
    {
     "data": {
      "text/plain": [
       "array([[ 0.06623144]])"
      ]
     },
     "execution_count": 4981,
     "metadata": {},
     "output_type": "execute_result"
    }
   ],
   "source": [
    "sigmoid_1 = net.sigmoid_(z1)\n",
    "sigmoid_1"
   ]
  },
  {
   "cell_type": "code",
   "execution_count": 4982,
   "metadata": {},
   "outputs": [
    {
     "data": {
      "text/plain": [
       "array([[-0.00446175]])"
      ]
     },
     "execution_count": 4982,
     "metadata": {},
     "output_type": "execute_result"
    }
   ],
   "source": [
    "i_1 = cost_ * sigmoid_1\n",
    "i_1"
   ]
  },
  {
   "cell_type": "code",
   "execution_count": 4983,
   "metadata": {},
   "outputs": [
    {
     "data": {
      "text/plain": [
       "array([[-0.00241035, -0.00374223, -0.00144394]])"
      ]
     },
     "execution_count": 4983,
     "metadata": {},
     "output_type": "execute_result"
    }
   ],
   "source": [
    "weight1_ = i_1.dot(l0.T)\n",
    "weight1_"
   ]
  },
  {
   "cell_type": "code",
   "execution_count": 4984,
   "metadata": {},
   "outputs": [
    {
     "data": {
      "text/plain": [
       "array([[-0.00446175]])"
      ]
     },
     "execution_count": 4984,
     "metadata": {},
     "output_type": "execute_result"
    }
   ],
   "source": [
    "bias1_ = i_1\n",
    "bias1_"
   ]
  },
  {
   "cell_type": "code",
   "execution_count": 4985,
   "metadata": {},
   "outputs": [
    {
     "data": {
      "text/plain": [
       "array([[-0.00047751],\n",
       "       [-0.00463792],\n",
       "       [-0.00261537]])"
      ]
     },
     "execution_count": 4985,
     "metadata": {},
     "output_type": "execute_result"
    }
   ],
   "source": [
    "cost_0 = weight1.T.dot(i_1)\n",
    "cost_0"
   ]
  },
  {
   "cell_type": "code",
   "execution_count": 4986,
   "metadata": {},
   "outputs": [
    {
     "data": {
      "text/plain": [
       "array([[ 0.70815668],\n",
       "       [ 0.29651977],\n",
       "       [ 0.89526521]])"
      ]
     },
     "execution_count": 4986,
     "metadata": {},
     "output_type": "execute_result"
    }
   ],
   "source": [
    "sigmoid_0 = net.sigmoid_(z0)\n",
    "sigmoid_0"
   ]
  },
  {
   "cell_type": "code",
   "execution_count": 4987,
   "metadata": {},
   "outputs": [
    {
     "data": {
      "text/plain": [
       "array([[-0.00033815],\n",
       "       [-0.00137523],\n",
       "       [-0.00234145]])"
      ]
     },
     "execution_count": 4987,
     "metadata": {},
     "output_type": "execute_result"
    }
   ],
   "source": [
    "i_0 = cost_0 * sigmoid_0\n",
    "i_0"
   ]
  },
  {
   "cell_type": "code",
   "execution_count": 4988,
   "metadata": {},
   "outputs": [
    {
     "data": {
      "text/plain": [
       "array([[ 0.        , -0.00033815],\n",
       "       [ 0.        , -0.00137523],\n",
       "       [ 0.        , -0.00234145]])"
      ]
     },
     "execution_count": 4988,
     "metadata": {},
     "output_type": "execute_result"
    }
   ],
   "source": [
    "weight0_ = i_0.dot(x1.T)\n",
    "weight0_"
   ]
  },
  {
   "cell_type": "code",
   "execution_count": 4989,
   "metadata": {},
   "outputs": [
    {
     "data": {
      "text/plain": [
       "array([[-0.00033815],\n",
       "       [-0.00137523],\n",
       "       [-0.00234145]])"
      ]
     },
     "execution_count": 4989,
     "metadata": {},
     "output_type": "execute_result"
    }
   ],
   "source": [
    "bias0_ = i_0\n",
    "bias0_"
   ]
  },
  {
   "cell_type": "code",
   "execution_count": 4990,
   "metadata": {},
   "outputs": [
    {
     "data": {
      "text/plain": [
       "array([[ 0.00113454]])"
      ]
     },
     "execution_count": 4990,
     "metadata": {},
     "output_type": "execute_result"
    }
   ],
   "source": [
    "cost = (output - y1) ** 2\n",
    "cost"
   ]
  },
  {
   "cell_type": "code",
   "execution_count": 4991,
   "metadata": {},
   "outputs": [
    {
     "data": {
      "text/plain": [
       "array([[ 0.10943281,  1.04322741,  0.58762106]])"
      ]
     },
     "execution_count": 4991,
     "metadata": {},
     "output_type": "execute_result"
    }
   ],
   "source": [
    "weight1 -= weight1_\n",
    "weight1"
   ]
  },
  {
   "cell_type": "code",
   "execution_count": 4992,
   "metadata": {},
   "outputs": [
    {
     "data": {
      "text/plain": [
       "array([[ 0.91854972]])"
      ]
     },
     "execution_count": 4992,
     "metadata": {},
     "output_type": "execute_result"
    }
   ],
   "source": [
    "bias1 -= bias1_\n",
    "bias1"
   ]
  },
  {
   "cell_type": "code",
   "execution_count": 4993,
   "metadata": {},
   "outputs": [
    {
     "data": {
      "text/plain": [
       "array([[ 0.74600256,  0.3159793 ],\n",
       "       [ 0.09528863,  0.26418636],\n",
       "       [ 0.66460439,  0.17843751]])"
      ]
     },
     "execution_count": 4993,
     "metadata": {},
     "output_type": "execute_result"
    }
   ],
   "source": [
    "weight0 -= weight0_\n",
    "weight0"
   ]
  },
  {
   "cell_type": "code",
   "execution_count": 4994,
   "metadata": {},
   "outputs": [
    {
     "data": {
      "text/plain": [
       "array([[ 0.28917062],\n",
       "       [ 0.95546388],\n",
       "       [ 0.16193914]])"
      ]
     },
     "execution_count": 4994,
     "metadata": {},
     "output_type": "execute_result"
    }
   ],
   "source": [
    "bias0 -= bias0_\n",
    "bias0"
   ]
  },
  {
   "cell_type": "code",
   "execution_count": 5,
   "metadata": {},
   "outputs": [
    {
     "data": {
      "text/plain": [
       "array([-20, -19, -18, -17, -16, -15, -14, -13, -12, -11, -10,  -9,  -8,\n",
       "        -7,  -6,  -5,  -4,  -3,  -2,  -1,   0,   1,   2,   3,   4,   5,\n",
       "         6,   7,   8,   9,  10,  11,  12,  13,  14,  15,  16,  17,  18,\n",
       "        19,  20])"
      ]
     },
     "execution_count": 5,
     "metadata": {},
     "output_type": "execute_result"
    }
   ],
   "source": [
    "x = np.arange(-20, 21, 1)\n",
    "def tanh(x):\n",
    "    return (1 - np.exp(-(x * 2))) / (1 + np.exp(-(x * 2)))\n",
    "\n",
    "def tanh_(x):\n",
    "    return 1 - np.square(self.sigmoid(x)) "
   ]
  },
  {
   "cell_type": "code",
   "execution_count": null,
   "metadata": {},
   "outputs": [],
   "source": [
    "fig, (ax0, ax1) = plot.subplots(nrows=2)\n"
   ]
  }
 ],
 "metadata": {
  "kernelspec": {
   "display_name": "Python 3",
   "language": "python",
   "name": "python3"
  },
  "language_info": {
   "codemirror_mode": {
    "name": "ipython",
    "version": 3
   },
   "file_extension": ".py",
   "mimetype": "text/x-python",
   "name": "python",
   "nbconvert_exporter": "python",
   "pygments_lexer": "ipython3",
   "version": "3.6.5"
  }
 },
 "nbformat": 4,
 "nbformat_minor": 2
}
