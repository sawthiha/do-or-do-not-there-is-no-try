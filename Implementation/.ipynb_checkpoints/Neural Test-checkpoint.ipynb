{
 "cells": [
  {
   "cell_type": "code",
   "execution_count": 1,
   "metadata": {},
   "outputs": [],
   "source": [
    "import numpy as np"
   ]
  },
  {
   "cell_type": "code",
   "execution_count": 49,
   "metadata": {},
   "outputs": [],
   "source": [
    "class NeuralNet:\n",
    "    def __init__(self, size_in, size_out):\n",
    "        self.input = np.zeros((size_in, 1), dtype=np.float32)\n",
    "        self.output = np.zeros((size_out, 1), dtype=np.float32)\n",
    "        self.weight = np.array()\n",
    "        self.bias = np.array()\n",
    "        self.layer = np.array()\n",
    "        self.weight[0] = np.random.rand(32, size_in)\n",
    "        self.weight[1] = np.random.rand(32, 32)\n",
    "        self.weight[2] = np.random.rand(size_out, 32)\n",
    "        self.bias[0] = np.random.rand(32, 1)\n",
    "        self.bias[1] = np.random.rand(32, 1)\n",
    "        self.bias[2] = np.random.rand(size_out, 1)\n",
    "        self.layer[0] = np.zeros((32, 1), dtype=np.float32)\n",
    "        self.layer[1] = np.zeros((32, 1), dtype=np.float32)\n",
    "    \n",
    "    def sigmoid(self, x):\n",
    "        return (1 - np.exp(-(x * 2))) / (1 + np.exp(-(x * 2)))\n",
    "    \n",
    "    def sigmoid_(self, x):\n",
    "        return 1 - np.square(sigmoid(x))   \n",
    "    \n",
    "    def cost(self, y):\n",
    "        return (self.output - y) ** 2\n",
    "    \n",
    "    def cost_(self, y):\n",
    "        return (self.output - y) * 2\n",
    "    \n",
    "    def feed(self, x):\n",
    "        self.input[:] = x.T\n",
    "        self.layer[0] = self.weight[0].dot(self.input) + self.bias[0]\n",
    "        self.layer[1] = self.weight[1].dot(self.layer[0]) + self.bias[1]\n",
    "        self.output = self.weight[2].dot(self.layer[1]) + self.bias[2]\n",
    "        \n",
    "    def propagate(self, y):\n",
    "        c = self.cost(y)\n",
    "        c_ = self.cost_(y)\n",
    "        \n",
    "    def output(self):\n",
    "        return self.output"
   ]
  },
  {
   "cell_type": "code",
   "execution_count": 46,
   "metadata": {},
   "outputs": [
    {
     "ename": "ValueError",
     "evalue": "could not broadcast input array from shape (6,1) into shape (5,1)",
     "output_type": "error",
     "traceback": [
      "\u001b[0;31m---------------------------------------------------------------------------\u001b[0m",
      "\u001b[0;31mValueError\u001b[0m                                Traceback (most recent call last)",
      "\u001b[0;32m<ipython-input-46-0c3165de17a1>\u001b[0m in \u001b[0;36m<module>\u001b[0;34m()\u001b[0m\n\u001b[1;32m      1\u001b[0m \u001b[0mx\u001b[0m \u001b[0;34m=\u001b[0m \u001b[0mnp\u001b[0m\u001b[0;34m.\u001b[0m\u001b[0mzeros\u001b[0m\u001b[0;34m(\u001b[0m\u001b[0;34m(\u001b[0m\u001b[0;36m5\u001b[0m\u001b[0;34m,\u001b[0m \u001b[0;36m1\u001b[0m\u001b[0;34m)\u001b[0m\u001b[0;34m,\u001b[0m \u001b[0mdtype\u001b[0m\u001b[0;34m=\u001b[0m\u001b[0mnp\u001b[0m\u001b[0;34m.\u001b[0m\u001b[0mfloat32\u001b[0m\u001b[0;34m)\u001b[0m\u001b[0;34m\u001b[0m\u001b[0m\n\u001b[1;32m      2\u001b[0m \u001b[0my\u001b[0m \u001b[0;34m=\u001b[0m \u001b[0mnp\u001b[0m\u001b[0;34m.\u001b[0m\u001b[0mrandom\u001b[0m\u001b[0;34m.\u001b[0m\u001b[0mrand\u001b[0m\u001b[0;34m(\u001b[0m\u001b[0;36m1\u001b[0m\u001b[0;34m,\u001b[0m \u001b[0;36m6\u001b[0m\u001b[0;34m)\u001b[0m\u001b[0;34m\u001b[0m\u001b[0m\n\u001b[0;32m----> 3\u001b[0;31m \u001b[0mx\u001b[0m\u001b[0;34m[\u001b[0m\u001b[0;34m:\u001b[0m\u001b[0;34m]\u001b[0m \u001b[0;34m=\u001b[0m \u001b[0my\u001b[0m\u001b[0;34m.\u001b[0m\u001b[0mT\u001b[0m\u001b[0;34m\u001b[0m\u001b[0m\n\u001b[0m\u001b[1;32m      4\u001b[0m \u001b[0;34m\u001b[0m\u001b[0m\n\u001b[1;32m      5\u001b[0m \u001b[0;31m#https://medium.com/data-science-group-iitr/logistic-regression-simplified-9b4efe801389\u001b[0m\u001b[0;34m\u001b[0m\u001b[0;34m\u001b[0m\u001b[0m\n",
      "\u001b[0;31mValueError\u001b[0m: could not broadcast input array from shape (6,1) into shape (5,1)"
     ]
    }
   ],
   "source": [
    "x = np.zeros((5, 1), dtype=np.float32)\n",
    "y = np.random.rand(1, 6)\n",
    "x[:] = y.T\n",
    "\n",
    "#https://medium.com/data-science-group-iitr/logistic-regression-simplified-9b4efe801389\n",
    "#https://stackoverflow.com/questions/3985619/how-to-calculate-a-logistic-sigmoid-function-in-python"
   ]
  },
  {
   "cell_type": "code",
   "execution_count": 34,
   "metadata": {},
   "outputs": [
    {
     "name": "stdout",
     "output_type": "stream",
     "text": [
      "2.54366564738e-13\n"
     ]
    }
   ],
   "source": []
  }
 ],
 "metadata": {
  "kernelspec": {
   "display_name": "Python 3",
   "language": "python",
   "name": "python3"
  },
  "language_info": {
   "codemirror_mode": {
    "name": "ipython",
    "version": 3
   },
   "file_extension": ".py",
   "mimetype": "text/x-python",
   "name": "python",
   "nbconvert_exporter": "python",
   "pygments_lexer": "ipython3",
   "version": "3.6.5"
  }
 },
 "nbformat": 4,
 "nbformat_minor": 2
}
