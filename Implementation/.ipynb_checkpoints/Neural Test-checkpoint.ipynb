{
 "cells": [
  {
   "cell_type": "code",
   "execution_count": 15,
   "metadata": {},
   "outputs": [],
   "source": [
    "import numpy as np"
   ]
  },
  {
   "cell_type": "code",
   "execution_count": 834,
   "metadata": {},
   "outputs": [],
   "source": [
    "class NeuralNet:\n",
    "    def __init__(self, size_in, size_out):\n",
    "        self.input = np.zeros((size_in, 1), dtype=np.float32)\n",
    "        self.output = np.zeros((size_out, 1), dtype=np.float32)\n",
    "        self.rate = 1000\n",
    "        self.weight = [None, None, None]\n",
    "        self.bias = [None, None, None]\n",
    "        self.layer = [None, None]\n",
    "        self.z = [None, None, None]\n",
    "        self.weight_ = [None, None, None]\n",
    "        self.bias_ = [None, None, None]\n",
    "        self.weight[0] = np.random.rand(3, size_in)\n",
    "        self.weight[1] = np.random.rand(3, 3)\n",
    "        self.weight[2] = np.random.rand(size_out, 3)\n",
    "        self.bias[0] = np.random.rand(3, 1)\n",
    "        self.bias[1] = np.random.rand(3, 1)\n",
    "        self.bias[2] = np.random.rand(size_out, 1)\n",
    "        self.layer[0] = np.zeros((3, 1), dtype=np.float32)\n",
    "        self.layer[1] = np.zeros((3, 1), dtype=np.float32)\n",
    "        self.z[0] = np.zeros((3, 1), dtype=np.float32)\n",
    "        self.z[1] = np.zeros((3, 1), dtype=np.float32)\n",
    "        self.z[2] = np.zeros((size_out, 1), dtype=np.float32)\n",
    "        self.weight_[0] = np.zeros((3, size_in), dtype=np.float32)\n",
    "        self.weight_[1] = np.zeros((3, 3), dtype=np.float32)\n",
    "        self.weight_[2] = np.zeros((size_out, 3), dtype=np.float32)\n",
    "        self.bias_[0] = np.zeros((3, 1), dtype=np.float32)\n",
    "        self.bias_[1] = np.zeros((3, 1), dtype=np.float32)\n",
    "        self.bias_[2] = np.zeros((size_out, 1), dtype=np.float32)\n",
    "    \n",
    "    def sigmoid(self, x):\n",
    "        return (1 - np.exp(-(x * 2))) / (1 + np.exp(-(x * 2)))\n",
    "    \n",
    "    def sigmoid_(self, x):\n",
    "        return 1 - np.square(self.sigmoid(x))   \n",
    "    \n",
    "    def cost(self, y):\n",
    "        return (self.output - y) ** 2\n",
    "    \n",
    "    def cost_(self, y):\n",
    "        return (self.output - y) * 2\n",
    "    \n",
    "    def feed(self, x):\n",
    "        self.input[:] = x.T\n",
    "        self.z[0] = self.weight[0].dot(self.input) + self.bias[0]\n",
    "        self.layer[0] = self.sigmoid(self.z[0])\n",
    "        self.z[1] = self.weight[1].dot(self.layer[0]) + self.bias[1]\n",
    "        self.layer[1] = self.sigmoid(self.z[1])\n",
    "        self.z[2] = self.weight[2].dot(self.layer[1]) + self.bias[2]\n",
    "        self.output = self.sigmoid(self.z[2])\n",
    "        \n",
    "    def propagate(self, y):\n",
    "        i_ = self.sigmoid_(self.z[2]) * self.cost_(y)\n",
    "        self.weight_[2][:] = i_.dot(self.layer[1].T)\n",
    "        self.bias_[2][:] = i_\n",
    "        c_ = self.weight[2].T.dot(i_)\n",
    "        \n",
    "        i_ = self.sigmoid_(self.z[1]) * c_\n",
    "        self.weight_[1][:] = i_.dot(self.layer[0].T)\n",
    "        self.bias_[1][:] = i_\n",
    "        c_ = self.weight[1].T.dot(i_)\n",
    "        \n",
    "        i_ = self.sigmoid_(self.z[0]) * c_\n",
    "        self.weight_[0][:] = i_.dot(self.input.T)\n",
    "        self.bias_[0][:] = i_\n",
    "        \n",
    "        for i in range(0, 3, 1):\n",
    "            self.weight[i] -= self.weight_[i]\n",
    "            self.bias[i] -= self.bias_[i]\n",
    "        \n",
    "    def result(self):\n",
    "        return self.output"
   ]
  },
  {
   "cell_type": "code",
   "execution_count": 835,
   "metadata": {},
   "outputs": [
    {
     "name": "stdout",
     "output_type": "stream",
     "text": [
      "[[1 2 3]]\n"
     ]
    }
   ],
   "source": [
    "#https://medium.com/data-science-group-iitr/logistic-regression-simplified-9b4efe801389\n",
    "#https://stackoverflow.com/questions/3985619/how-to-calculate-a-logistic-sigmoid-function-in-python"
   ]
  },
  {
   "cell_type": "code",
   "execution_count": 836,
   "metadata": {},
   "outputs": [],
   "source": [
    "net = NeuralNet(2,1)"
   ]
  },
  {
   "cell_type": "code",
   "execution_count": 837,
   "metadata": {},
   "outputs": [],
   "source": [
    "x = [[1, 1], [1, 0], [0, 1], [0, 0]]\n",
    "y = [0, 1, 1, 0]\n",
    "i = 0"
   ]
  },
  {
   "cell_type": "code",
   "execution_count": null,
   "metadata": {},
   "outputs": [],
   "source": [
    "while i < 100:\n",
    "    for d in [0, 1, 2, 3]:\n",
    "        tmp = np.empty((1, 2), dtype=np.float32)\n",
    "        tmp[:] = x[d]\n",
    "        net.feed(tmp)\n",
    "        net.propagate(y[d])\n",
    "    i += 1"
   ]
  },
  {
   "cell_type": "code",
   "execution_count": 838,
   "metadata": {},
   "outputs": [
    {
     "name": "stdout",
     "output_type": "stream",
     "text": [
      "[[ 0.99997126]]\n"
     ]
    }
   ],
   "source": [
    "tmp = np.empty((1, 2), dtype=np.float32)\n",
    "tmp[:] = x[1]\n",
    "net.feed(tmp)\n",
    "net.propagate(y[1])\n",
    "print(net.cost(y[3]))"
   ]
  },
  {
   "cell_type": "code",
   "execution_count": 748,
   "metadata": {},
   "outputs": [
    {
     "name": "stdout",
     "output_type": "stream",
     "text": [
      "[[ 0.99996233]]\n"
     ]
    }
   ],
   "source": [
    "tmp = np.empty((1, 2), dtype=np.float32)\n",
    "tmp[:] = x[0]\n",
    "net.feed(tmp)\n",
    "net.propagate(y[3])"
   ]
  }
 ],
 "metadata": {
  "kernelspec": {
   "display_name": "Python 3",
   "language": "python",
   "name": "python3"
  },
  "language_info": {
   "codemirror_mode": {
    "name": "ipython",
    "version": 3
   },
   "file_extension": ".py",
   "mimetype": "text/x-python",
   "name": "python",
   "nbconvert_exporter": "python",
   "pygments_lexer": "ipython3",
   "version": "3.6.5"
  }
 },
 "nbformat": 4,
 "nbformat_minor": 2
}
